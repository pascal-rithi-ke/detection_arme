{
 "cells": [
  {
   "cell_type": "markdown",
   "metadata": {},
   "source": [
    "## Ce notebook permet de réaliser la détection d'une arme à feu sur une image ( lié à la page 1_Detection_Image.py)"
   ]
  },
  {
   "cell_type": "markdown",
   "metadata": {},
   "source": [
    "#### Nous utiliserons un algorithme de Deep Learning, appelé CNN ( Convolutionnal Central Neural Networks) pour réaliser la classification des images multi-labels"
   ]
  },
  {
   "cell_type": "code",
   "execution_count": 1,
   "metadata": {},
   "outputs": [
    {
     "name": "stderr",
     "output_type": "stream",
     "text": [
      "c:\\Users\\Pascal.Ke\\anaconda3\\lib\\site-packages\\pandas\\core\\computation\\expressions.py:21: UserWarning: Pandas requires version '2.8.4' or newer of 'numexpr' (version '2.8.3' currently installed).\n",
      "  from pandas.core.computation.check import NUMEXPR_INSTALLED\n",
      "c:\\Users\\Pascal.Ke\\anaconda3\\lib\\site-packages\\pandas\\core\\arrays\\masked.py:60: UserWarning: Pandas requires version '1.3.6' or newer of 'bottleneck' (version '1.3.5' currently installed).\n",
      "  from pandas.core import (\n"
     ]
    },
    {
     "name": "stdout",
     "output_type": "stream",
     "text": [
      "WARNING:tensorflow:From c:\\Users\\Pascal.Ke\\anaconda3\\lib\\site-packages\\keras\\src\\losses.py:2976: The name tf.losses.sparse_softmax_cross_entropy is deprecated. Please use tf.compat.v1.losses.sparse_softmax_cross_entropy instead.\n",
      "\n"
     ]
    }
   ],
   "source": [
    "# imports\n",
    "import pandas as pd\n",
    "import numpy as np\n",
    "import tensorflow as tf\n",
    "from tensorflow.keras.applications import InceptionV3\n",
    "from tensorflow.keras.layers import Dense, GlobalAveragePooling2D\n",
    "from tensorflow.keras.models import Model\n",
    "from tensorflow.keras.optimizers import SGD\n",
    "from tensorflow.keras.preprocessing.image import ImageDataGenerator\n",
    "from tensorflow.keras.optimizers import Adam\n"
   ]
  },
  {
   "cell_type": "markdown",
   "metadata": {},
   "source": [
    "## Charger et préparer les données"
   ]
  },
  {
   "cell_type": "markdown",
   "metadata": {},
   "source": [
    "https://www.kaggle.com/datasets/syedwajeeh19/weapon-detection-dataset-for-yolov3/data"
   ]
  },
  {
   "cell_type": "code",
   "execution_count": 2,
   "metadata": {},
   "outputs": [],
   "source": [
    "# Charger les CSV contenant les labels pour chaque ensemble de données\n",
    "train_labels_path = \"../Weapons.v2i.multiclass/train/_classes.csv\"\n",
    "test_labels_path = \"../Weapons.v2i.multiclass/test/_classes.csv\"\n",
    "validation_labels_path = \"../Weapons.v2i.multiclass/valid/_classes.csv\"\n",
    "\n"
   ]
  },
  {
   "cell_type": "code",
   "execution_count": 3,
   "metadata": {},
   "outputs": [],
   "source": [
    "# Charger les données pour l'ensemble d'entraînement, de validation et de test à partir des fichiers CSV\n",
    "train_labels = pd.read_csv(train_labels_path, skipinitialspace=True)\n",
    "test_labels = pd.read_csv(test_labels_path, skipinitialspace=True)\n",
    "valid_labels = pd.read_csv(validation_labels_path, skipinitialspace=True)"
   ]
  },
  {
   "cell_type": "code",
   "execution_count": 4,
   "metadata": {},
   "outputs": [],
   "source": [
    "# Chemins vers les répertoires contenant les images pour chaque ensemble de données\n",
    "train_dir = \"../Weapons.v2i.multiclass/train/\"\n",
    "test_dir = \"../Weapons.v2i.multiclass/test/\"\n",
    "valid_dir = \"../Weapons.v2i.multiclass/valid/\"\n"
   ]
  },
  {
   "cell_type": "markdown",
   "metadata": {},
   "source": [
    "## Génération d'image"
   ]
  },
  {
   "cell_type": "code",
   "execution_count": 5,
   "metadata": {},
   "outputs": [
    {
     "name": "stdout",
     "output_type": "stream",
     "text": [
      "Found 279 validated image filenames.\n",
      "Found 80 validated image filenames.\n",
      "Found 39 validated image filenames.\n"
     ]
    }
   ],
   "source": [
    "\n",
    "# Paramètres des images\n",
    "image_size = (150, 150)\n",
    "batch_size = 32\n",
    "\n",
    "\n",
    "# # Mise en place des générateurs d'images\n",
    "train_datagen = ImageDataGenerator(rescale=1./255)\n",
    "valid_datagen = ImageDataGenerator(rescale=1./255)\n",
    "test_datagen = ImageDataGenerator(rescale=1./255)\n",
    "\n",
    "train_generator = train_datagen.flow_from_dataframe(\n",
    "    dataframe=train_labels,\n",
    "    directory=train_dir,\n",
    "    x_col=\"filename\",\n",
    "    y_col=[\"Gun\",\"Knife\",\"Rifle\"],  # Utilisez des majuscules pour correspondre aux noms de colonnes dans le CSV\n",
    "    target_size=image_size,\n",
    "    batch_size=batch_size,\n",
    "    class_mode=\"raw\"\n",
    ")\n",
    "valid_generator = valid_datagen.flow_from_dataframe(\n",
    "    dataframe=valid_labels,\n",
    "    directory=valid_dir,\n",
    "    x_col=\"filename\",\n",
    "    y_col=[\"Gun\",\"Knife\",\"Rifle\"],  # Utilisez des majuscules pour correspondre aux noms de colonnes dans le CSV\n",
    "    target_size=image_size,\n",
    "    batch_size=batch_size,\n",
    "    class_mode=\"raw\"\n",
    ")\n",
    "test_generator = test_datagen.flow_from_dataframe(\n",
    "    dataframe=test_labels,\n",
    "    directory=test_dir,\n",
    "    x_col=\"filename\",\n",
    "    y_col=[\"Gun\",\"Knife\",\"Rifle\"],  # Utilisez des majuscules pour correspondre aux noms de colonnes dans le CSV\n",
    "    target_size=image_size,\n",
    "    batch_size=batch_size,\n",
    "    class_mode=\"raw\"\n",
    ")\n"
   ]
  },
  {
   "cell_type": "markdown",
   "metadata": {},
   "source": [
    "## Création du modèle"
   ]
  },
  {
   "cell_type": "code",
   "execution_count": 6,
   "metadata": {},
   "outputs": [
    {
     "name": "stdout",
     "output_type": "stream",
     "text": [
      "Chargement des données...\n",
      "Répertoire de formation: ../Weapons.v2i.multiclass/train/\n",
      "Répertoire de validation: ../Weapons.v2i.multiclass/valid/\n",
      "Répertoire de test: ../Weapons.v2i.multiclass/test/\n",
      "Found 279 validated image filenames.\n",
      "Found 80 validated image filenames.\n",
      "Found 39 validated image filenames.\n"
     ]
    },
    {
     "name": "stdout",
     "output_type": "stream",
     "text": [
      "Chargement du modèle InceptionV3...\n",
      "WARNING:tensorflow:From c:\\Users\\Pascal.Ke\\anaconda3\\lib\\site-packages\\keras\\src\\backend.py:1398: The name tf.executing_eagerly_outside_functions is deprecated. Please use tf.compat.v1.executing_eagerly_outside_functions instead.\n",
      "\n",
      "WARNING:tensorflow:From c:\\Users\\Pascal.Ke\\anaconda3\\lib\\site-packages\\keras\\src\\layers\\normalization\\batch_normalization.py:979: The name tf.nn.fused_batch_norm is deprecated. Please use tf.compat.v1.nn.fused_batch_norm instead.\n",
      "\n",
      "Entraînement du modèle...\n",
      "Epoch 1/10\n",
      "WARNING:tensorflow:From c:\\Users\\Pascal.Ke\\anaconda3\\lib\\site-packages\\keras\\src\\utils\\tf_utils.py:492: The name tf.ragged.RaggedTensorValue is deprecated. Please use tf.compat.v1.ragged.RaggedTensorValue instead.\n",
      "\n",
      "WARNING:tensorflow:From c:\\Users\\Pascal.Ke\\anaconda3\\lib\\site-packages\\keras\\src\\engine\\base_layer_utils.py:384: The name tf.executing_eagerly_outside_functions is deprecated. Please use tf.compat.v1.executing_eagerly_outside_functions instead.\n",
      "\n",
      "9/9 [==============================] - 5s 355ms/step - loss: 6.2004 - accuracy: 0.5735 - val_loss: 1.6685 - val_accuracy: 0.7125\n",
      "Epoch 2/10\n",
      "9/9 [==============================] - 2s 230ms/step - loss: 1.0396 - accuracy: 0.7168 - val_loss: 1.1065 - val_accuracy: 0.7000\n",
      "Epoch 3/10\n",
      "9/9 [==============================] - 2s 226ms/step - loss: 0.3882 - accuracy: 0.8817 - val_loss: 0.6277 - val_accuracy: 0.7750\n",
      "Epoch 4/10\n",
      "9/9 [==============================] - 2s 227ms/step - loss: 0.1504 - accuracy: 0.9570 - val_loss: 0.5027 - val_accuracy: 0.8125\n",
      "Epoch 5/10\n",
      "9/9 [==============================] - 2s 234ms/step - loss: 0.0808 - accuracy: 0.9677 - val_loss: 0.4380 - val_accuracy: 0.8750\n",
      "Epoch 6/10\n",
      "9/9 [==============================] - 2s 226ms/step - loss: 0.0425 - accuracy: 0.9964 - val_loss: 0.5154 - val_accuracy: 0.8250\n",
      "Epoch 7/10\n",
      "9/9 [==============================] - 2s 215ms/step - loss: 0.0235 - accuracy: 1.0000 - val_loss: 0.4880 - val_accuracy: 0.8250\n",
      "Epoch 8/10\n",
      "9/9 [==============================] - 2s 229ms/step - loss: 0.0150 - accuracy: 1.0000 - val_loss: 0.5007 - val_accuracy: 0.8625\n",
      "Epoch 9/10\n",
      "9/9 [==============================] - 2s 225ms/step - loss: 0.0102 - accuracy: 1.0000 - val_loss: 0.5259 - val_accuracy: 0.8250\n",
      "Epoch 10/10\n",
      "9/9 [==============================] - 2s 233ms/step - loss: 0.0082 - accuracy: 1.0000 - val_loss: 0.5424 - val_accuracy: 0.8000\n",
      "Évaluation du modèle sur l'ensemble de test...\n",
      "2/2 - 0s - loss: 0.5530 - accuracy: 0.7692 - 313ms/epoch - 157ms/step\n",
      "\n",
      "Test accuracy: 0.7692307829856873\n"
     ]
    }
   ],
   "source": [
    "# Paramètres des images\n",
    "image_size = (150, 150)\n",
    "batch_size = 32\n",
    "\n",
    "# Mise en place des générateurs d'images\n",
    "print(\"Chargement des données...\")\n",
    "print(\"Répertoire de formation:\", train_dir)\n",
    "print(\"Répertoire de validation:\", valid_dir)\n",
    "print(\"Répertoire de test:\", test_dir)\n",
    "\n",
    "train_generator = train_datagen.flow_from_dataframe(\n",
    "    dataframe=train_labels,\n",
    "    directory=train_dir,\n",
    "    x_col=\"filename\",\n",
    "    y_col=[\"Gun\",\"Knife\",\"Rifle\"],\n",
    "    target_size=image_size,\n",
    "    batch_size=batch_size,\n",
    "    class_mode=\"raw\"\n",
    ")\n",
    "\n",
    "valid_generator = valid_datagen.flow_from_dataframe(\n",
    "    dataframe=valid_labels,\n",
    "    directory=valid_dir,\n",
    "    x_col=\"filename\",\n",
    "    y_col=[\"Gun\",\"Knife\",\"Rifle\"],\n",
    "    target_size=image_size,\n",
    "    batch_size=batch_size,\n",
    "    class_mode=\"raw\"\n",
    ")\n",
    "\n",
    "test_generator = test_datagen.flow_from_dataframe(\n",
    "    dataframe=test_labels,\n",
    "    directory=test_dir,\n",
    "    x_col=\"filename\",\n",
    "    y_col=[\"Gun\",\"Knife\",\"Rifle\"],\n",
    "    target_size=image_size,\n",
    "    batch_size=batch_size,\n",
    "    class_mode=\"raw\"\n",
    ")\n",
    "\n",
    "# Charger l'architecture InceptionV3 pré-entraînée sans les couches fully connected\n",
    "print(\"Chargement du modèle InceptionV3...\")\n",
    "base_model = InceptionV3(weights='imagenet', include_top=False, input_shape=(150, 150, 3))\n",
    "\n",
    "# Congeler les couches du modèle pré-entraîné pour empêcher leur mise à jour lors de l'entraînement\n",
    "for layer in base_model.layers:\n",
    "    layer.trainable = False\n",
    "\n",
    "# Ajouter des couches fully connected personnalisées au-dessus de l'architecture pré-entraînée\n",
    "x = base_model.output\n",
    "x = GlobalAveragePooling2D()(x)\n",
    "x = Dense(1024, activation='relu')(x)\n",
    "predictions = Dense(3, activation='softmax')(x)  # 3 classes : Gun, Knife, Rifle\n",
    "\n",
    "# Définir le modèle final\n",
    "model = Model(inputs=base_model.input, outputs=predictions)\n",
    "\n",
    "# Compiler le modèle\n",
    "model.compile(optimizer=Adam(), loss='categorical_crossentropy', metrics=['accuracy'])\n",
    "\n",
    "# Entraîner le modèle en utilisant les générateurs d'images\n",
    "print(\"Entraînement du modèle...\")\n",
    "history = model.fit(\n",
    "    train_generator,\n",
    "    steps_per_epoch=len(train_generator),\n",
    "    epochs=10,\n",
    "    validation_data=valid_generator,\n",
    "    validation_steps=len(valid_generator)\n",
    ")\n",
    "\n",
    "# Évaluer le modèle sur l'ensemble de test\n",
    "print(\"Évaluation du modèle sur l'ensemble de test...\")\n",
    "test_loss, test_acc = model.evaluate(test_generator, verbose=2)\n",
    "print('\\nTest accuracy:', test_acc)\n"
   ]
  },
  {
   "cell_type": "markdown",
   "metadata": {},
   "source": [
    "## Sauvegarde du modèle "
   ]
  },
  {
   "cell_type": "code",
   "execution_count": 8,
   "metadata": {},
   "outputs": [
    {
     "name": "stdout",
     "output_type": "stream",
     "text": [
      "Le modèle a été sauvegardé avec succès à l'emplacement : ./model.h5\n"
     ]
    }
   ],
   "source": [
    "\n",
    "model_save_path = r'./model.h5'\n",
    "\n",
    "model.save(model_save_path)\n",
    "\n",
    "print(\"Le modèle a été sauvegardé avec succès à l'emplacement :\", model_save_path)"
   ]
  },
  {
   "cell_type": "markdown",
   "metadata": {},
   "source": [
    "# Affichage de la matrice de confusion du modèle"
   ]
  },
  {
   "cell_type": "code",
   "execution_count": 1,
   "metadata": {},
   "outputs": [
    {
     "name": "stderr",
     "output_type": "stream",
     "text": [
      "c:\\Users\\Pascal.Ke\\anaconda3\\lib\\site-packages\\pandas\\core\\computation\\expressions.py:21: UserWarning: Pandas requires version '2.8.4' or newer of 'numexpr' (version '2.8.3' currently installed).\n",
      "  from pandas.core.computation.check import NUMEXPR_INSTALLED\n",
      "c:\\Users\\Pascal.Ke\\anaconda3\\lib\\site-packages\\pandas\\core\\arrays\\masked.py:60: UserWarning: Pandas requires version '1.3.6' or newer of 'bottleneck' (version '1.3.5' currently installed).\n",
      "  from pandas.core import (\n"
     ]
    },
    {
     "ename": "NameError",
     "evalue": "name 'model' is not defined",
     "output_type": "error",
     "traceback": [
      "\u001b[1;31m---------------------------------------------------------------------------\u001b[0m",
      "\u001b[1;31mNameError\u001b[0m                                 Traceback (most recent call last)",
      "\u001b[1;32m~\\AppData\\Local\\Temp\\ipykernel_21208\\227848976.py\u001b[0m in \u001b[0;36m<module>\u001b[1;34m\u001b[0m\n\u001b[0;32m      5\u001b[0m \u001b[1;33m\u001b[0m\u001b[0m\n\u001b[0;32m      6\u001b[0m \u001b[1;31m# Prédire les classes pour l'ensemble de test\u001b[0m\u001b[1;33m\u001b[0m\u001b[1;33m\u001b[0m\u001b[0m\n\u001b[1;32m----> 7\u001b[1;33m \u001b[0my_pred\u001b[0m \u001b[1;33m=\u001b[0m \u001b[0mmodel\u001b[0m\u001b[1;33m.\u001b[0m\u001b[0mpredict\u001b[0m\u001b[1;33m(\u001b[0m\u001b[0mtest_generator\u001b[0m\u001b[1;33m)\u001b[0m\u001b[1;33m\u001b[0m\u001b[1;33m\u001b[0m\u001b[0m\n\u001b[0m\u001b[0;32m      8\u001b[0m \u001b[0my_pred\u001b[0m \u001b[1;33m=\u001b[0m \u001b[0mnp\u001b[0m\u001b[1;33m.\u001b[0m\u001b[0margmax\u001b[0m\u001b[1;33m(\u001b[0m\u001b[0my_pred\u001b[0m\u001b[1;33m,\u001b[0m \u001b[0maxis\u001b[0m\u001b[1;33m=\u001b[0m\u001b[1;36m1\u001b[0m\u001b[1;33m)\u001b[0m\u001b[1;33m\u001b[0m\u001b[1;33m\u001b[0m\u001b[0m\n\u001b[0;32m      9\u001b[0m \u001b[1;33m\u001b[0m\u001b[0m\n",
      "\u001b[1;31mNameError\u001b[0m: name 'model' is not defined"
     ]
    }
   ],
   "source": [
    "# affichage de la matrice de confusion\n",
    "from sklearn.metrics import confusion_matrix\n",
    "import seaborn as sns\n",
    "import matplotlib.pyplot as plt\n",
    "\n",
    "# Prédire les classes pour l'ensemble de test\n",
    "y_pred = model.predict(test_generator)\n",
    "y_pred = np.argmax(y_pred, axis=1)\n",
    "\n",
    "# Convertir les étiquettes de l'ensemble de test en classes\n",
    "y_true = test_labels[[\"Gun\",\"Knife\",\"Rifle\"]].to_numpy()\n",
    "y_true = np.argmax(y_true, axis=1)\n",
    "\n",
    "# Créer la matrice de confusion\n",
    "conf_matrix = confusion_matrix(y_true, y_pred)\n",
    "\n",
    "# Afficher la matrice de confusion\n",
    "plt.figure(figsize=(10, 8))\n",
    "sns.heatmap(conf_matrix, annot=True, fmt='g', cmap='Blues', xticklabels=[\"Gun\",\"Knife\",\"Rifle\"], yticklabels=[\"Gun\",\"Knife\",\"Rifle\"])\n",
    "plt.xlabel('Predicted')\n",
    "plt.ylabel('Actual')\n",
    "plt.title('Confusion Matrix')\n",
    "plt.show()"
   ]
  }
 ],
 "metadata": {
  "kernelspec": {
   "display_name": "base",
   "language": "python",
   "name": "python3"
  },
  "language_info": {
   "codemirror_mode": {
    "name": "ipython",
    "version": 3
   },
   "file_extension": ".py",
   "mimetype": "text/x-python",
   "name": "python",
   "nbconvert_exporter": "python",
   "pygments_lexer": "ipython3",
   "version": "3.9.13"
  }
 },
 "nbformat": 4,
 "nbformat_minor": 2
}
