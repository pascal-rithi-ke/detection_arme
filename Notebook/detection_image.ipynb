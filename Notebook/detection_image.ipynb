{
 "cells": [
  {
   "cell_type": "markdown",
   "metadata": {},
   "source": [
    "## Ce notebook permet de réaliser la détection d'une arme à feu sur une image ( lié à la page 1_Detection_Image.py)"
   ]
  },
  {
   "cell_type": "markdown",
   "metadata": {},
   "source": [
    "#### Nous utiliserons un algorithme de Deep Learning, appelé CNN ( Convolutionnal Central Neural Networks) pour réaliser la classification des images multi-labels"
   ]
  },
  {
   "cell_type": "code",
   "execution_count": 107,
   "metadata": {},
   "outputs": [],
   "source": [
    "# imports\n",
    "import pandas as pd\n",
    "import numpy as np\n",
    "import tensorflow as tf\n",
    "from tensorflow.keras.applications import InceptionV3\n",
    "from tensorflow.keras.layers import Dense, GlobalAveragePooling2D\n",
    "from tensorflow.keras.models import Model\n",
    "from tensorflow.keras.optimizers import SGD\n",
    "from tensorflow.keras.preprocessing.image import ImageDataGenerator\n",
    "from tensorflow.keras.optimizers import Adam\n"
   ]
  },
  {
   "cell_type": "markdown",
   "metadata": {},
   "source": [
    "## Charger et préparer les données"
   ]
  },
  {
   "cell_type": "markdown",
   "metadata": {},
   "source": [
    "https://www.kaggle.com/datasets/syedwajeeh19/weapon-detection-dataset-for-yolov3/data"
   ]
  },
  {
   "cell_type": "code",
   "execution_count": 95,
   "metadata": {},
   "outputs": [],
   "source": [
    "# Charger les CSV contenant les labels pour chaque ensemble de données\n",
    "train_labels_path = \"C:/Users/33749/Desktop/IPSSI/MachineLearning_DeepLearning/Projet_Detection_Arme/Weapons.v1i.multiclass/train/_classes.csv\"\n",
    "test_labels_path = \"C:/Users/33749/Desktop/IPSSI/MachineLearning_DeepLearning/Projet_Detection_Arme/Weapons.v1i.multiclass/test/_classes.csv\"\n",
    "validation_labels_path = \"C:/Users/33749/Desktop/IPSSI/MachineLearning_DeepLearning/Projet_Detection_Arme/Weapons.v1i.multiclass/valid/_classes.csv\"\n",
    "\n"
   ]
  },
  {
   "cell_type": "code",
   "execution_count": 99,
   "metadata": {},
   "outputs": [],
   "source": [
    "# Charger les données pour l'ensemble d'entraînement, de validation et de test à partir des fichiers CSV\n",
    "train_labels = pd.read_csv(train_labels_path, skipinitialspace=True)\n",
    "test_labels = pd.read_csv(test_labels_path, skipinitialspace=True)\n",
    "valid_labels = pd.read_csv(validation_labels_path, skipinitialspace=True)"
   ]
  },
  {
   "cell_type": "code",
   "execution_count": 100,
   "metadata": {},
   "outputs": [],
   "source": [
    "# Chemins vers les répertoires contenant les images pour chaque ensemble de données\n",
    "train_dir = \"C:/Users/33749/Desktop/IPSSI/MachineLearning_DeepLearning/Projet_Detection_Arme/Weapons.v1i.multiclass/train/\"\n",
    "test_dir = \"C:/Users/33749/Desktop/IPSSI/MachineLearning_DeepLearning/Projet_Detection_Arme/Weapons.v1i.multiclass/test/\"\n",
    "valid_dir = \"C:/Users/33749/Desktop/IPSSI/MachineLearning_DeepLearning/Projet_Detection_Arme/Weapons.v1i.multiclass/valid/\"\n"
   ]
  },
  {
   "cell_type": "markdown",
   "metadata": {},
   "source": [
    "## Génération d'image"
   ]
  },
  {
   "cell_type": "code",
   "execution_count": 109,
   "metadata": {},
   "outputs": [
    {
     "name": "stdout",
     "output_type": "stream",
     "text": [
      "Found 35 validated image filenames.\n",
      "Found 10 validated image filenames.\n",
      "Found 5 validated image filenames.\n"
     ]
    }
   ],
   "source": [
    "\n",
    "# # Paramètres des images\n",
    "# image_size = (150, 150)\n",
    "# batch_size = 32\n",
    "\n",
    "\n",
    "# # Mise en place des générateurs d'images\n",
    "# train_datagen = ImageDataGenerator(rescale=1./255)\n",
    "# valid_datagen = ImageDataGenerator(rescale=1./255)\n",
    "# test_datagen = ImageDataGenerator(rescale=1./255)\n",
    "\n",
    "# train_generator = train_datagen.flow_from_dataframe(\n",
    "#     dataframe=train_labels,\n",
    "#     directory=train_dir,\n",
    "#     x_col=\"filename\",\n",
    "#     y_col=[\"Gun\",\"Knife\",\"Rifle\"],  # Utilisez des majuscules pour correspondre aux noms de colonnes dans le CSV\n",
    "#     target_size=image_size,\n",
    "#     batch_size=batch_size,\n",
    "#     class_mode=\"raw\"\n",
    "# )\n",
    "\n",
    "# valid_generator = valid_datagen.flow_from_dataframe(\n",
    "#     dataframe=valid_labels,\n",
    "#     directory=valid_dir,\n",
    "#     x_col=\"filename\",\n",
    "#     y_col=[\"Gun\",\"Knife\",\"Rifle\"],  # Utilisez des majuscules pour correspondre aux noms de colonnes dans le CSV\n",
    "#     target_size=image_size,\n",
    "#     batch_size=batch_size,\n",
    "#     class_mode=\"raw\"\n",
    "# )\n",
    "\n",
    "# test_generator = test_datagen.flow_from_dataframe(\n",
    "#     dataframe=test_labels,\n",
    "#     directory=test_dir,\n",
    "#     x_col=\"filename\",\n",
    "#     y_col=[\"Gun\",\"Knife\",\"Rifle\"],  # Utilisez des majuscules pour correspondre aux noms de colonnes dans le CSV\n",
    "#     target_size=image_size,\n",
    "#     batch_size=batch_size,\n",
    "#     class_mode=\"raw\"\n",
    "# )\n"
   ]
  },
  {
   "cell_type": "markdown",
   "metadata": {},
   "source": [
    "## Création du modèle"
   ]
  },
  {
   "cell_type": "code",
   "execution_count": 111,
   "metadata": {},
   "outputs": [
    {
     "name": "stdout",
     "output_type": "stream",
     "text": [
      "Chargement des données...\n",
      "Répertoire de formation: C:/Users/33749/Desktop/IPSSI/MachineLearning_DeepLearning/Projet_Detection_Arme/Weapons.v1i.multiclass/train/\n",
      "Répertoire de validation: C:/Users/33749/Desktop/IPSSI/MachineLearning_DeepLearning/Projet_Detection_Arme/Weapons.v1i.multiclass/valid/\n",
      "Répertoire de test: C:/Users/33749/Desktop/IPSSI/MachineLearning_DeepLearning/Projet_Detection_Arme/Weapons.v1i.multiclass/test/\n",
      "Found 35 validated image filenames.\n",
      "Found 10 validated image filenames.\n",
      "Found 5 validated image filenames.\n",
      "Chargement du modèle InceptionV3...\n",
      "Entraînement du modèle...\n",
      "Epoch 1/10\n",
      "2/2 [==============================] - 5s 2s/step - loss: 10.8960 - accuracy: 0.6571 - val_loss: 6.9632 - val_accuracy: 0.8000\n",
      "Epoch 2/10\n",
      "2/2 [==============================] - 0s 382ms/step - loss: 4.7246 - accuracy: 0.7429 - val_loss: 2.1261 - val_accuracy: 0.7000\n",
      "Epoch 3/10\n",
      "2/2 [==============================] - 0s 346ms/step - loss: 4.2269 - accuracy: 0.5143 - val_loss: 3.0326 - val_accuracy: 0.4000\n",
      "Epoch 4/10\n",
      "2/2 [==============================] - 0s 175ms/step - loss: 1.3645 - accuracy: 0.7429 - val_loss: 2.1087 - val_accuracy: 0.8000\n",
      "Epoch 5/10\n",
      "2/2 [==============================] - 0s 173ms/step - loss: 0.5818 - accuracy: 0.9143 - val_loss: 2.7941 - val_accuracy: 0.8000\n",
      "Epoch 6/10\n",
      "2/2 [==============================] - 0s 179ms/step - loss: 0.7387 - accuracy: 0.8286 - val_loss: 2.0894 - val_accuracy: 0.8000\n",
      "Epoch 7/10\n",
      "2/2 [==============================] - 0s 191ms/step - loss: 0.2050 - accuracy: 0.9714 - val_loss: 1.6048 - val_accuracy: 0.8000\n",
      "Epoch 8/10\n",
      "2/2 [==============================] - 0s 371ms/step - loss: 0.0411 - accuracy: 0.9714 - val_loss: 1.4706 - val_accuracy: 0.7000\n",
      "Epoch 9/10\n",
      "2/2 [==============================] - 0s 174ms/step - loss: 0.0476 - accuracy: 1.0000 - val_loss: 1.4638 - val_accuracy: 0.8000\n",
      "Epoch 10/10\n",
      "2/2 [==============================] - 0s 181ms/step - loss: 0.0630 - accuracy: 1.0000 - val_loss: 1.4399 - val_accuracy: 0.8000\n",
      "Évaluation du modèle sur l'ensemble de test...\n",
      "1/1 - 0s - loss: 2.6607 - accuracy: 0.6000 - 95ms/epoch - 95ms/step\n",
      "\n",
      "Test accuracy: 0.6000000238418579\n"
     ]
    }
   ],
   "source": [
    "# Paramètres des images\n",
    "image_size = (150, 150)\n",
    "batch_size = 32\n",
    "\n",
    "# Mise en place des générateurs d'images\n",
    "print(\"Chargement des données...\")\n",
    "print(\"Répertoire de formation:\", train_dir)\n",
    "print(\"Répertoire de validation:\", valid_dir)\n",
    "print(\"Répertoire de test:\", test_dir)\n",
    "\n",
    "train_generator = train_datagen.flow_from_dataframe(\n",
    "    dataframe=train_labels,\n",
    "    directory=train_dir,\n",
    "    x_col=\"filename\",\n",
    "    y_col=[\"Gun\",\"Knife\",\"Rifle\"],\n",
    "    target_size=image_size,\n",
    "    batch_size=batch_size,\n",
    "    class_mode=\"raw\"\n",
    ")\n",
    "\n",
    "valid_generator = valid_datagen.flow_from_dataframe(\n",
    "    dataframe=valid_labels,\n",
    "    directory=valid_dir,\n",
    "    x_col=\"filename\",\n",
    "    y_col=[\"Gun\",\"Knife\",\"Rifle\"],\n",
    "    target_size=image_size,\n",
    "    batch_size=batch_size,\n",
    "    class_mode=\"raw\"\n",
    ")\n",
    "\n",
    "test_generator = test_datagen.flow_from_dataframe(\n",
    "    dataframe=test_labels,\n",
    "    directory=test_dir,\n",
    "    x_col=\"filename\",\n",
    "    y_col=[\"Gun\",\"Knife\",\"Rifle\"],\n",
    "    target_size=image_size,\n",
    "    batch_size=batch_size,\n",
    "    class_mode=\"raw\"\n",
    ")\n",
    "\n",
    "# Charger l'architecture InceptionV3 pré-entraînée sans les couches fully connected\n",
    "print(\"Chargement du modèle InceptionV3...\")\n",
    "base_model = InceptionV3(weights='imagenet', include_top=False, input_shape=(150, 150, 3))\n",
    "\n",
    "# Congeler les couches du modèle pré-entraîné pour empêcher leur mise à jour lors de l'entraînement\n",
    "for layer in base_model.layers:\n",
    "    layer.trainable = False\n",
    "\n",
    "# Ajouter des couches fully connected personnalisées au-dessus de l'architecture pré-entraînée\n",
    "x = base_model.output\n",
    "x = GlobalAveragePooling2D()(x)\n",
    "x = Dense(1024, activation='relu')(x)\n",
    "predictions = Dense(3, activation='softmax')(x)  # 3 classes : Gun, Knife, Rifle\n",
    "\n",
    "# Définir le modèle final\n",
    "model = Model(inputs=base_model.input, outputs=predictions)\n",
    "\n",
    "# Compiler le modèle\n",
    "model.compile(optimizer=Adam(), loss='categorical_crossentropy', metrics=['accuracy'])\n",
    "\n",
    "# Entraîner le modèle en utilisant les générateurs d'images\n",
    "print(\"Entraînement du modèle...\")\n",
    "history = model.fit(\n",
    "    train_generator,\n",
    "    steps_per_epoch=len(train_generator),\n",
    "    epochs=10,\n",
    "    validation_data=valid_generator,\n",
    "    validation_steps=len(valid_generator)\n",
    ")\n",
    "\n",
    "# Évaluer le modèle sur l'ensemble de test\n",
    "print(\"Évaluation du modèle sur l'ensemble de test...\")\n",
    "test_loss, test_acc = model.evaluate(test_generator, verbose=2)\n",
    "print('\\nTest accuracy:', test_acc)\n"
   ]
  },
  {
   "cell_type": "markdown",
   "metadata": {},
   "source": [
    "## Sauvegarde du modèle "
   ]
  },
  {
   "cell_type": "code",
   "execution_count": null,
   "metadata": {},
   "outputs": [],
   "source": [
    "\n",
    "model_save_path = r'C:\\Users\\33749\\Desktop\\IPSSI\\MachineLearning_DeepLearning\\Projet_Detection_Arme\\detection_arme\\Notebook\\inceptionv3_model.h5'\n",
    "\n",
    "model.save(model_save_path)e(model_save_path)\n",
    "\n",
    "print(\"Le modèle a été sauvegardé avec succès à l'emplacement :\", model_save_path)"
   ]
  }
 ],
 "metadata": {
  "kernelspec": {
   "display_name": "base",
   "language": "python",
   "name": "python3"
  },
  "language_info": {
   "codemirror_mode": {
    "name": "ipython",
    "version": 3
   },
   "file_extension": ".py",
   "mimetype": "text/x-python",
   "name": "python",
   "nbconvert_exporter": "python",
   "pygments_lexer": "ipython3",
   "version": "3.11.0"
  }
 },
 "nbformat": 4,
 "nbformat_minor": 2
}
