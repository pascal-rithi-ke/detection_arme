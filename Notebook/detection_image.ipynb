{
 "cells": [
  {
   "cell_type": "markdown",
   "metadata": {},
   "source": [
    "## Ce notebook permet de réaliser la détection d'une arme à feu sur une image ( lié à la page 1_Detection_Image.py)"
   ]
  },
  {
   "cell_type": "markdown",
   "metadata": {},
   "source": [
    "#### Nous utiliserons un algorithme de Deep Learning, appelé CNN ( Convolutionnal Central Neural Networks) pour réaliser la classification des images"
   ]
  },
  {
   "cell_type": "code",
   "execution_count": 57,
   "metadata": {},
   "outputs": [],
   "source": [
    "# Imports\n",
    "import os\n",
    "import numpy as np\n",
    "import pandas as pd\n",
    "import seaborn as sns\n",
    "import matplotlib.pyplot as plt\n",
    "\n",
    "# Import Deep Learning\n",
    "import tensorflow as tf\n",
    "from tensorflow.keras import layers, models\n"
   ]
  },
  {
   "cell_type": "markdown",
   "metadata": {},
   "source": [
    "## Charger et préparer les données"
   ]
  },
  {
   "cell_type": "markdown",
   "metadata": {},
   "source": [
    "https://www.kaggle.com/datasets/syedwajeeh19/weapon-detection-dataset-for-yolov3/data"
   ]
  },
  {
   "cell_type": "markdown",
   "metadata": {},
   "source": [
    "#### Nous utiliserons un CNN pour la détection des images"
   ]
  },
  {
   "cell_type": "markdown",
   "metadata": {},
   "source": [
    "#### Le dataset présent à déjà annoté les images, c'est à dire que les coordonnées qui représente les armes à feu sont déjà présentes. Il faut maintenant entrainer le modèle à détecter ( ou non ) une image"
   ]
  },
  {
   "cell_type": "code",
   "execution_count": 58,
   "metadata": {},
   "outputs": [],
   "source": [
    "# Chemin vers les images\n",
    "chemin_images = \"C:\\\\Users\\\\yayou\\\\Desktop\\\\detection_arme\\\\DataSet Info\\\\images\"\n",
    "categories = [\n",
    "    {\n",
    "        \"folder_name\": \"pistol\",\n",
    "        \"images\": []\n",
    "    },\n",
    "    {\n",
    "        \"folder_name\": \"rifle\",\n",
    "        \"images\": []\n",
    "    },\n",
    "    {\n",
    "        \"folder_name\": \"knife\",\n",
    "        \"images\": []\n",
    "    }\n",
    "]\n"
   ]
  },
  {
   "cell_type": "code",
   "execution_count": 59,
   "metadata": {},
   "outputs": [],
   "source": [
    "def preprocess_image(image_file_path):\n",
    "    # Charger l'image\n",
    "    image = tf.keras.preprocessing.image.load_img(image_file_path, target_size=(224, 224))\n",
    "    # Convertir l'image en tableau numpy\n",
    "    image = tf.keras.preprocessing.image.img_to_array(image)\n",
    "    # Normaliser l'image\n",
    "    image = image / 255.0\n",
    "\n",
    "    return image"
   ]
  },
  {
   "cell_type": "code",
   "execution_count": 60,
   "metadata": {},
   "outputs": [
    {
     "name": "stdout",
     "output_type": "stream",
     "text": [
      "Chargement des images de la catégorie pistol\n",
      "Chargement des images de la catégorie pistol terminé\n",
      "Nombre d'images chargées : 299\n",
      "Chargement des images de la catégorie rifle\n",
      "Chargement des images de la catégorie rifle terminé\n",
      "Nombre d'images chargées : 281\n",
      "Chargement des images de la catégorie knife\n",
      "Chargement des images de la catégorie knife terminé\n",
      "Nombre d'images chargées : 144\n"
     ]
    }
   ],
   "source": [
    "# Ajout des noms de fichiers et des étiquettes dans les listes d'images\n",
    "for category in categories:\n",
    "    folder_name = category[\"folder_name\"]\n",
    "    print(\"Chargement des images de la catégorie\", folder_name)\n",
    "\n",
    "    for filename in os.listdir(chemin_images + \"\\\\\" + folder_name):\n",
    "        file_path = os.path.join(chemin_images, folder_name, filename)\n",
    "\n",
    "        if filename.endswith((\".jpg\", \".jpeg\")):\n",
    "            category[\"images\"].append({\n",
    "                \"filename\": filename,\n",
    "                \"image\": preprocess_image(file_path),\n",
    "                \"label\": folder_name\n",
    "            })\n",
    "\n",
    "    print(\"Chargement des images de la catégorie\", folder_name, \"terminé\")\n",
    "    print(\"Nombre d'images chargées :\", len(category[\"images\"]))"
   ]
  },
  {
   "cell_type": "code",
   "execution_count": 61,
   "metadata": {},
   "outputs": [
    {
     "data": {
      "text/plain": [
       "(224, 224, 3)"
      ]
     },
     "execution_count": 61,
     "metadata": {},
     "output_type": "execute_result"
    }
   ],
   "source": [
    "categories[0][\"images\"][0][\"image\"].shape"
   ]
  },
  {
   "cell_type": "code",
   "execution_count": 62,
   "metadata": {},
   "outputs": [
    {
     "name": "stdout",
     "output_type": "stream",
     "text": [
      "X shape : (581, 224, 224, 3)\n",
      "y shape : (581,)\n",
      "X_valid shape : (143, 224, 224, 3)\n",
      "y_valid shape : (143,)\n"
     ]
    }
   ],
   "source": [
    "# Séparation en variables d'entraînement et de validation\n",
    "X = []\n",
    "y = []\n",
    "\n",
    "X_valid = []\n",
    "y_valid = []\n",
    "X_valid_filename = []\n",
    "\n",
    "for category in categories:\n",
    "    images = category[\"images\"]\n",
    "    for i in range(len(images)):\n",
    "        if i < 0.8 * len(images): # 80% des images pour l'entraînement\n",
    "            X.append(images[i][\"image\"])\n",
    "            y.append(images[i][\"label\"])\n",
    "        else: # 20% des images pour la validation\n",
    "            X_valid.append(images[i][\"image\"])\n",
    "            y_valid.append(images[i][\"label\"])\n",
    "            X_valid_filename.append(images[i][\"filename\"])\n",
    "\n",
    "X = np.array(X)\n",
    "y = np.array(y)\n",
    "X_valid = np.array(X_valid)\n",
    "y_valid = np.array(y_valid)\n",
    "\n",
    "print(\"X shape :\", X.shape)\n",
    "print(\"y shape :\", y.shape)\n",
    "print(\"X_valid shape :\", X_valid.shape)\n",
    "print(\"y_valid shape :\", y_valid.shape)"
   ]
  },
  {
   "cell_type": "code",
   "execution_count": 63,
   "metadata": {},
   "outputs": [],
   "source": [
    "from sklearn.preprocessing import LabelEncoder\n",
    "\n",
    "label_encoder = LabelEncoder()\n",
    "\n",
    "y = label_encoder.fit_transform(y)\n",
    "y_valid = label_encoder.transform(y_valid)"
   ]
  },
  {
   "cell_type": "markdown",
   "metadata": {},
   "source": [
    "Séparation des données en train et test"
   ]
  },
  {
   "cell_type": "code",
   "execution_count": 64,
   "metadata": {},
   "outputs": [],
   "source": [
    "from sklearn.model_selection import train_test_split\n",
    "X_train, X_test, y_train, y_test = train_test_split(X, y, test_size=0.2, random_state=42)"
   ]
  },
  {
   "cell_type": "markdown",
   "metadata": {},
   "source": [
    "Labels encoding"
   ]
  },
  {
   "cell_type": "code",
   "execution_count": 65,
   "metadata": {},
   "outputs": [],
   "source": [
    "y_train = tf.keras.utils.to_categorical(y_train)\n",
    "y_test = tf.keras.utils.to_categorical(y_test)"
   ]
  },
  {
   "cell_type": "code",
   "execution_count": 69,
   "metadata": {},
   "outputs": [
    {
     "name": "stdout",
     "output_type": "stream",
     "text": [
      "(464, 224, 224, 3)\n",
      "(464, 3)\n",
      "(117, 224, 224, 3)\n",
      "(117, 3)\n"
     ]
    }
   ],
   "source": [
    "print(X_train.shape)\n",
    "print(y_train.shape)\n",
    "print(X_test.shape)\n",
    "print(y_test.shape)"
   ]
  },
  {
   "cell_type": "markdown",
   "metadata": {},
   "source": [
    "### Modèle InceptionV3"
   ]
  },
  {
   "cell_type": "code",
   "execution_count": 70,
   "metadata": {},
   "outputs": [
    {
     "name": "stdout",
     "output_type": "stream",
     "text": [
      "Downloading data from https://storage.googleapis.com/tensorflow/keras-applications/inception_v3/inception_v3_weights_tf_dim_ordering_tf_kernels_notop.h5\n",
      "87910968/87910968 [==============================] - 5s 0us/step\n"
     ]
    }
   ],
   "source": [
    "from tensorflow.keras.applications import InceptionV3\n",
    "\n",
    "base_model = InceptionV3(weights=\"imagenet\",\n",
    "                         include_top=False,\n",
    "                         input_shape=(224, 224, 3))"
   ]
  },
  {
   "cell_type": "code",
   "execution_count": 71,
   "metadata": {},
   "outputs": [],
   "source": [
    "for layers in base_model.layers:\n",
    "    layers.trainable = False\n",
    "\n",
    "last_layer = base_model.get_layer(\"mixed7\")\n",
    "last_output = last_layer.output"
   ]
  },
  {
   "cell_type": "code",
   "execution_count": 72,
   "metadata": {},
   "outputs": [],
   "source": [
    "from tensorflow.keras.optimizers import RMSprop, Adam\n",
    "from keras import Model\n",
    "\n",
    "x = tf.keras.layers.Flatten()(last_output)\n",
    "x = tf.keras.layers.Dense(64, activation=\"relu\")(x)\n",
    "x = tf.keras.layers.BatchNormalization()(x)\n",
    "x = tf.keras.layers.Dense(64, activation=\"relu\")(x)\n",
    "x = tf.keras.layers.BatchNormalization()(x)\n",
    "output = tf.keras.layers.Dense(len(categories), activation=\"softmax\")(x)\n",
    "\n",
    "model_inception = Model(base_model.input,output)\n",
    "\n",
    "model_inception.compile(optimizer=\"adam\", loss = \"categorical_crossentropy\",metrics = [\"accuracy\"])"
   ]
  },
  {
   "cell_type": "markdown",
   "metadata": {},
   "source": [
    "Training"
   ]
  },
  {
   "cell_type": "code",
   "execution_count": 74,
   "metadata": {},
   "outputs": [
    {
     "name": "stdout",
     "output_type": "stream",
     "text": [
      "Epoch 1/20\n",
      "15/15 [==============================] - 25s 2s/step - loss: 0.0561 - accuracy: 0.9978 - val_loss: 0.3434 - val_accuracy: 0.8803\n",
      "Epoch 2/20\n",
      "15/15 [==============================] - 20s 1s/step - loss: 0.0230 - accuracy: 1.0000 - val_loss: 0.3394 - val_accuracy: 0.8718\n",
      "Epoch 3/20\n",
      "15/15 [==============================] - 20s 1s/step - loss: 0.0227 - accuracy: 0.9978 - val_loss: 0.3146 - val_accuracy: 0.8718\n",
      "Epoch 4/20\n",
      "15/15 [==============================] - 19s 1s/step - loss: 0.0182 - accuracy: 1.0000 - val_loss: 0.3061 - val_accuracy: 0.8718\n",
      "Epoch 5/20\n",
      "15/15 [==============================] - 26s 2s/step - loss: 0.0106 - accuracy: 1.0000 - val_loss: 0.3069 - val_accuracy: 0.8803\n",
      "Epoch 6/20\n",
      "15/15 [==============================] - 25s 2s/step - loss: 0.0080 - accuracy: 1.0000 - val_loss: 0.2978 - val_accuracy: 0.8803\n",
      "Epoch 7/20\n",
      "15/15 [==============================] - 25s 2s/step - loss: 0.0095 - accuracy: 1.0000 - val_loss: 0.3012 - val_accuracy: 0.8803\n",
      "Epoch 8/20\n",
      "15/15 [==============================] - 26s 2s/step - loss: 0.0063 - accuracy: 1.0000 - val_loss: 0.3008 - val_accuracy: 0.8803\n",
      "Epoch 9/20\n",
      "15/15 [==============================] - 26s 2s/step - loss: 0.0049 - accuracy: 1.0000 - val_loss: 0.3017 - val_accuracy: 0.8803\n",
      "Epoch 10/20\n",
      "15/15 [==============================] - 23s 2s/step - loss: 0.0039 - accuracy: 1.0000 - val_loss: 0.2987 - val_accuracy: 0.8803\n",
      "Epoch 11/20\n",
      "15/15 [==============================] - 21s 1s/step - loss: 0.0028 - accuracy: 1.0000 - val_loss: 0.2952 - val_accuracy: 0.8889\n",
      "Epoch 12/20\n",
      "15/15 [==============================] - 26s 2s/step - loss: 0.0034 - accuracy: 1.0000 - val_loss: 0.2878 - val_accuracy: 0.8974\n",
      "Epoch 13/20\n",
      "15/15 [==============================] - 26s 2s/step - loss: 0.0046 - accuracy: 1.0000 - val_loss: 0.2748 - val_accuracy: 0.8889\n",
      "Epoch 14/20\n",
      "15/15 [==============================] - 27s 2s/step - loss: 0.0025 - accuracy: 1.0000 - val_loss: 0.2722 - val_accuracy: 0.8889\n",
      "Epoch 15/20\n",
      "15/15 [==============================] - 26s 2s/step - loss: 0.0034 - accuracy: 1.0000 - val_loss: 0.2660 - val_accuracy: 0.8889\n",
      "Epoch 16/20\n",
      "15/15 [==============================] - 26s 2s/step - loss: 0.0025 - accuracy: 1.0000 - val_loss: 0.2673 - val_accuracy: 0.8889\n",
      "Epoch 17/20\n",
      "15/15 [==============================] - 24s 2s/step - loss: 0.0030 - accuracy: 1.0000 - val_loss: 0.2648 - val_accuracy: 0.8889\n",
      "Epoch 18/20\n",
      "15/15 [==============================] - 22s 1s/step - loss: 0.0013 - accuracy: 1.0000 - val_loss: 0.2635 - val_accuracy: 0.8889\n",
      "Epoch 19/20\n",
      "15/15 [==============================] - 22s 1s/step - loss: 0.0021 - accuracy: 1.0000 - val_loss: 0.2666 - val_accuracy: 0.8889\n",
      "Epoch 20/20\n",
      "15/15 [==============================] - 22s 2s/step - loss: 0.0014 - accuracy: 1.0000 - val_loss: 0.2627 - val_accuracy: 0.8974\n"
     ]
    }
   ],
   "source": [
    "history_1 = model_inception.fit(\n",
    "        X_train,y_train,\n",
    "        epochs=20,\n",
    "        validation_data=(X_test,y_test))"
   ]
  },
  {
   "cell_type": "markdown",
   "metadata": {},
   "source": [
    "### Évaluation du modèle"
   ]
  },
  {
   "cell_type": "markdown",
   "metadata": {},
   "source": [
    "Courbes de précision et de perte"
   ]
  },
  {
   "cell_type": "code",
   "execution_count": 75,
   "metadata": {},
   "outputs": [
    {
     "name": "stderr",
     "output_type": "stream",
     "text": [
      "C:\\Users\\yayou\\AppData\\Local\\Temp\\ipykernel_23672\\4152981858.py:14: UserWarning: FigureCanvasAgg is non-interactive, and thus cannot be shown\n",
      "  fig.show()\n"
     ]
    },
    {
     "data": {
      "image/png": "[encoded data removed]",
      "text/plain": [
       "<Figure size 1200x500 with 2 Axes>"
      ]
     },
     "metadata": {},
     "output_type": "display_data"
    }
   ],
   "source": [
    "losss = history_1.history['loss']\n",
    "accu = history_1.history['accuracy']\n",
    "val_loss = history_1.history['val_loss']\n",
    "val_accu = history_1.history['val_accuracy']\n",
    "    \n",
    "fig, (ax1, ax2) = plt.subplots(1, 2, figsize=(12, 5))\n",
    "fig.suptitle('Loss and Accuracy curves')\n",
    "ax1.plot(losss, label='train loss')\n",
    "ax1.plot(val_loss, label='test loss')\n",
    "ax1.legend(loc=\"upper right\")\n",
    "ax2.plot(accu, label='train accuracy')\n",
    "ax2.plot(val_accu, label='test accuracy')\n",
    "ax2.legend()\n",
    "fig.show()"
   ]
  },
  {
   "cell_type": "markdown",
   "metadata": {},
   "source": [
    "Matrice de confusion"
   ]
  },
  {
   "cell_type": "code",
   "execution_count": 76,
   "metadata": {},
   "outputs": [],
   "source": [
    "from sklearn.metrics import accuracy_score, confusion_matrix"
   ]
  },
  {
   "cell_type": "code",
   "execution_count": 80,
   "metadata": {},
   "outputs": [],
   "source": [
    "def conf_matrix(m, X, Y):\n",
    "    predictions = m.predict(X)\n",
    "    y_pred = []\n",
    "    for pred in predictions:\n",
    "        y_pred.append(np.argmax(pred))\n",
    "    y_pred = np.array(y_pred)\n",
    "    print('Validation Accuracy : ', accuracy_score(Y, y_pred))\n",
    "    cm = confusion_matrix(y_pred, Y)\n",
    "    f,ax = plt.subplots(figsize=(20, 20))\n",
    "    sns.heatmap(cm, annot=True, linewidths=0.01,cmap=\"Greens\",linecolor=\"gray\", fmt= '.1f',ax=ax)\n",
    "    plt.xlabel(\"Predicted Label\")\n",
    "    plt.ylabel(\"True Label\")\n",
    "    plt.title(\"Confusion Matrix\")\n",
    "    plt.show()\n",
    "\n",
    "    print(cm)"
   ]
  },
  {
   "cell_type": "code",
   "execution_count": 81,
   "metadata": {},
   "outputs": [
    {
     "name": "stdout",
     "output_type": "stream",
     "text": [
      "5/5 [==============================] - 7s 1s/step\n",
      "Validation Accuracy :  0.9370629370629371\n"
     ]
    },
    {
     "data": {
      "image/png": "[encoded data removed]",
      "text/plain": [
       "<Figure size 2000x2000 with 2 Axes>"
      ]
     },
     "metadata": {},
     "output_type": "display_data"
    },
    {
     "name": "stdout",
     "output_type": "stream",
     "text": [
      "[[22  2  0]\n",
      " [ 4 56  0]\n",
      " [ 2  1 56]]\n"
     ]
    }
   ],
   "source": [
    "conf_matrix(model_inception, X_valid, y_valid)"
   ]
  },
  {
   "cell_type": "markdown",
   "metadata": {},
   "source": [
    "Sauvegarde du modèle"
   ]
  },
  {
   "cell_type": "code",
   "execution_count": 82,
   "metadata": {},
   "outputs": [],
   "source": [
    "model_inception.save(\"model_inception.h5\")"
   ]
  },
  {
   "cell_type": "markdown",
   "metadata": {},
   "source": []
  },
  {
   "cell_type": "code",
   "execution_count": null,
   "metadata": {},
   "outputs": [],
   "source": []
  }
 ],
 "metadata": {
  "kernelspec": {
   "display_name": "base",
   "language": "python",
   "name": "python3"
  },
  "language_info": {
   "codemirror_mode": {
    "name": "ipython",
    "version": 3
   },
   "file_extension": ".py",
   "mimetype": "text/x-python",
   "name": "python",
   "nbconvert_exporter": "python",
   "pygments_lexer": "ipython3",
   "version": "3.9.18"
  }
 },
 "nbformat": 4,
 "nbformat_minor": 2
}
